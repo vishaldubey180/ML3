{
 "cells": [
  {
   "cell_type": "code",
   "execution_count": 1,
   "id": "b4c711b3",
   "metadata": {},
   "outputs": [],
   "source": [
    "import pandas as pd\n",
    "import numpy as np"
   ]
  },
  {
   "cell_type": "code",
   "execution_count": 2,
   "id": "4d49c4f2",
   "metadata": {},
   "outputs": [
    {
     "data": {
      "text/plain": [
       "[10, 20, 30, 40, 50, 60, 70, 80, 90, 100]"
      ]
     },
     "execution_count": 2,
     "metadata": {},
     "output_type": "execute_result"
    }
   ],
   "source": [
    "x = [10,20,30,40,50,60,70,80,90,100]\n",
    "x"
   ]
  },
  {
   "cell_type": "code",
   "execution_count": 3,
   "id": "3d1219be",
   "metadata": {},
   "outputs": [],
   "source": [
    "# hold out cross validation method\n",
    "from sklearn.model_selection import train_test_split"
   ]
  },
  {
   "cell_type": "code",
   "execution_count": 4,
   "id": "20a1e024",
   "metadata": {},
   "outputs": [],
   "source": [
    "x_train, x_test = train_test_split(x, test_size=0.3)"
   ]
  },
  {
   "cell_type": "code",
   "execution_count": 5,
   "id": "ec4e4079",
   "metadata": {},
   "outputs": [
    {
     "data": {
      "text/plain": [
       "[10, 60, 50, 70, 80, 30, 20]"
      ]
     },
     "execution_count": 5,
     "metadata": {},
     "output_type": "execute_result"
    }
   ],
   "source": [
    "x_train"
   ]
  },
  {
   "cell_type": "code",
   "execution_count": 6,
   "id": "fe439ade",
   "metadata": {},
   "outputs": [
    {
     "data": {
      "text/plain": [
       "[100, 40, 90]"
      ]
     },
     "execution_count": 6,
     "metadata": {},
     "output_type": "execute_result"
    }
   ],
   "source": [
    "x_test"
   ]
  },
  {
   "cell_type": "code",
   "execution_count": 7,
   "id": "c9eeee31",
   "metadata": {},
   "outputs": [],
   "source": [
    "# leave one out cross validation\n",
    "from sklearn.model_selection import LeaveOneOut\n",
    "l = LeaveOneOut()"
   ]
  },
  {
   "cell_type": "code",
   "execution_count": 8,
   "id": "286941ae",
   "metadata": {},
   "outputs": [
    {
     "name": "stdout",
     "output_type": "stream",
     "text": [
      "[1 2 3 4 5 6 7 8 9] [0]\n",
      "[0 2 3 4 5 6 7 8 9] [1]\n",
      "[0 1 3 4 5 6 7 8 9] [2]\n",
      "[0 1 2 4 5 6 7 8 9] [3]\n",
      "[0 1 2 3 5 6 7 8 9] [4]\n",
      "[0 1 2 3 4 6 7 8 9] [5]\n",
      "[0 1 2 3 4 5 7 8 9] [6]\n",
      "[0 1 2 3 4 5 6 8 9] [7]\n",
      "[0 1 2 3 4 5 6 7 9] [8]\n",
      "[0 1 2 3 4 5 6 7 8] [9]\n"
     ]
    }
   ],
   "source": [
    "for train, test in l.split(x):\n",
    "    print(train, test)"
   ]
  },
  {
   "cell_type": "code",
   "execution_count": 9,
   "id": "f648b4c4",
   "metadata": {},
   "outputs": [],
   "source": [
    "# leave P out cross validation\n",
    "from sklearn.model_selection import LeavePOut\n",
    "lpo = LeavePOut(1)"
   ]
  },
  {
   "cell_type": "code",
   "execution_count": 10,
   "id": "d5098ed6",
   "metadata": {},
   "outputs": [
    {
     "name": "stdout",
     "output_type": "stream",
     "text": [
      "LeavePOut(p=1)\n"
     ]
    }
   ],
   "source": [
    "print(lpo)"
   ]
  },
  {
   "cell_type": "code",
   "execution_count": 11,
   "id": "690ad5be",
   "metadata": {},
   "outputs": [
    {
     "name": "stdout",
     "output_type": "stream",
     "text": [
      "Train: [2 3] Test: [0 1]\n",
      "Train: [1 3] Test: [0 2]\n",
      "Train: [1 2] Test: [0 3]\n",
      "Train: [0 3] Test: [1 2]\n",
      "Train: [0 2] Test: [1 3]\n",
      "Train: [0 1] Test: [2 3]\n"
     ]
    }
   ],
   "source": [
    "x = np.array([[1,2],[3,4],[5,6],[7,8]])\n",
    "y = np.array([1,2,3,4])\n",
    "lpo = LeavePOut(2)\n",
    "for train_index, test_index in lpo.split(x):\n",
    "    print(\"Train:\", train_index, \"Test:\", test_index)\n",
    "    x_train, x_test = x[train_index], x[test_index]\n",
    "    y_train, y_test = y[train_index], y[test_index]"
   ]
  },
  {
   "cell_type": "code",
   "execution_count": 12,
   "id": "9d005af6",
   "metadata": {},
   "outputs": [],
   "source": [
    "# K fold cross validation\n",
    "from sklearn.model_selection import KFold\n",
    "kf = KFold()"
   ]
  },
  {
   "cell_type": "code",
   "execution_count": 13,
   "id": "494d86da",
   "metadata": {},
   "outputs": [
    {
     "name": "stdout",
     "output_type": "stream",
     "text": [
      "Train data [2 3 4 5] Test data [0 1]\n",
      "Train data [0 1 4 5] Test data [2 3]\n",
      "Train data [0 1 2 3] Test data [4 5]\n"
     ]
    }
   ],
   "source": [
    "x = ['a', 'b', 'c', 'd' ,'e', 'f']\n",
    "kf = KFold(n_splits = 3, shuffle = False, random_state = None)\n",
    "\n",
    "for train, test in kf.split(x):\n",
    "    print(\"Train data\", train, \"Test data\", test)"
   ]
  },
  {
   "cell_type": "code",
   "execution_count": 18,
   "id": "eb30c7b2",
   "metadata": {},
   "outputs": [],
   "source": [
    "# Stratified K fold cross validation\n",
    "from sklearn.model_selection import StratifiedKFold"
   ]
  },
  {
   "cell_type": "code",
   "execution_count": 21,
   "id": "5bc1c4c3",
   "metadata": {},
   "outputs": [
    {
     "name": "stdout",
     "output_type": "stream",
     "text": [
      "Train: [0 1] Test: [2 3]\n",
      "Train: [0 1] Test: [2 3]\n",
      "Train: [0 1] Test: [2 3]\n"
     ]
    }
   ],
   "source": [
    "x = np.array([[1,2],[3,4],[5,6],[7,8],[9,10],[11,12]])\n",
    "y = np.array([0,0,1,0,1,1])\n",
    "\n",
    "skf = StratifiedKFold(n_splits = 3, shuffle = False, random_state = None)\n",
    "\n",
    "for train, test in skf.split(x,y):\n",
    "    print(\"Train:\", train_index, \"Test:\", test_index)\n",
    "    x_train, x_test = x[train_index], x[test_index]\n",
    "    y_train, y_test = y[train_index], y[test_index]"
   ]
  },
  {
   "cell_type": "code",
   "execution_count": null,
   "id": "5a2c3923",
   "metadata": {},
   "outputs": [],
   "source": []
  }
 ],
 "metadata": {
  "kernelspec": {
   "display_name": "Python 3 (ipykernel)",
   "language": "python",
   "name": "python3"
  },
  "language_info": {
   "codemirror_mode": {
    "name": "ipython",
    "version": 3
   },
   "file_extension": ".py",
   "mimetype": "text/x-python",
   "name": "python",
   "nbconvert_exporter": "python",
   "pygments_lexer": "ipython3",
   "version": "3.9.13"
  }
 },
 "nbformat": 4,
 "nbformat_minor": 5
}
