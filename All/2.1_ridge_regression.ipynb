{
 "cells": [
  {
   "cell_type": "markdown",
   "id": "a11e96d1",
   "metadata": {},
   "source": [
    "### Aim: Implementation of L2 Regularization"
   ]
  },
  {
   "cell_type": "code",
   "execution_count": 1,
   "id": "117f4b56",
   "metadata": {},
   "outputs": [],
   "source": [
    "from sklearn.datasets import make_regression"
   ]
  },
  {
   "cell_type": "code",
   "execution_count": 2,
   "id": "7b18da13",
   "metadata": {},
   "outputs": [],
   "source": [
    "x, y = make_regression(n_samples=100, n_features=1, n_targets=1, noise=20, random_state=2)"
   ]
  },
  {
   "cell_type": "code",
   "execution_count": 3,
   "id": "5ae4ebb3",
   "metadata": {},
   "outputs": [
    {
     "data": {
      "text/plain": [
       "array([[-8.78107893e-01],\n",
       "       [ 1.35963386e+00],\n",
       "       [ 1.64027081e+00],\n",
       "       [ 5.42352572e-01],\n",
       "       [ 8.24703005e-01],\n",
       "       [-5.96159700e-01],\n",
       "       [-5.62668272e-02],\n",
       "       [-1.32328898e-01],\n",
       "       [-2.43476758e+00],\n",
       "       [-4.03892269e-01],\n",
       "       [ 3.81866234e-01],\n",
       "       [ 1.36723542e+00],\n",
       "       [-7.47870949e-01],\n",
       "       [-3.81516482e-01],\n",
       "       [ 8.42456282e-01],\n",
       "       [-7.72186654e-02],\n",
       "       [ 4.33496330e-01],\n",
       "       [-2.17135269e-01],\n",
       "       [ 1.46767801e+00],\n",
       "       [ 1.12726505e-01],\n",
       "       [ 1.73118467e+00],\n",
       "       [-3.35677339e-01],\n",
       "       [-1.09873895e+00],\n",
       "       [-8.41747366e-01],\n",
       "       [ 5.66275441e-01],\n",
       "       [-1.05795222e+00],\n",
       "       [ 6.95119605e-01],\n",
       "       [ 5.39058321e-01],\n",
       "       [ 5.01857207e-01],\n",
       "       [-1.43943903e+00],\n",
       "       [-1.89469265e-01],\n",
       "       [-7.44707629e-02],\n",
       "       [-1.79343559e+00],\n",
       "       [ 2.23136679e+00],\n",
       "       [ 4.15393930e-02],\n",
       "       [ 1.17353150e+00],\n",
       "       [-1.38451867e+00],\n",
       "       [ 2.16116006e-01],\n",
       "       [-9.14526229e-02],\n",
       "       [ 1.27837923e+00],\n",
       "       [-2.13619610e+00],\n",
       "       [-2.36184031e-01],\n",
       "       [-1.85861239e+00],\n",
       "       [ 3.26003433e-01],\n",
       "       [ 9.76147160e-06],\n",
       "       [-3.75669423e-01],\n",
       "       [ 1.04082395e+00],\n",
       "       [-3.38821966e-01],\n",
       "       [-6.77675577e-01],\n",
       "       [ 1.21788563e+00],\n",
       "       [-1.24528809e+00],\n",
       "       [-8.29135289e-01],\n",
       "       [-4.19316482e-01],\n",
       "       [ 3.80471970e-01],\n",
       "       [-1.86809065e+00],\n",
       "       [ 1.58448706e+00],\n",
       "       [ 6.11340780e-01],\n",
       "       [ 1.00036589e+00],\n",
       "       [-9.09007615e-01],\n",
       "       [-3.95702397e-02],\n",
       "       [-1.91304965e-02],\n",
       "       [-1.42121723e+00],\n",
       "       [ 3.50888494e-01],\n",
       "       [-9.88779049e-01],\n",
       "       [ 4.62555231e-02],\n",
       "       [-3.81092518e-01],\n",
       "       [ 7.35279576e-01],\n",
       "       [-6.37655012e-01],\n",
       "       [-2.65944946e+00],\n",
       "       [-4.16757847e-01],\n",
       "       [ 2.56570452e-01],\n",
       "       [ 3.70444537e-01],\n",
       "       [-6.34679305e-01],\n",
       "       [ 4.79705919e-02],\n",
       "       [-2.34360319e+00],\n",
       "       [ 5.08396243e-01],\n",
       "       [-6.53250268e-01],\n",
       "       [-8.44213704e-01],\n",
       "       [-4.62005348e-01],\n",
       "       [ 2.04207979e-01],\n",
       "       [ 5.02881417e-01],\n",
       "       [-2.69056960e-01],\n",
       "       [-1.11792545e+00],\n",
       "       [ 5.24296430e-01],\n",
       "       [ 8.77102184e-02],\n",
       "       [ 5.51454045e-01],\n",
       "       [-2.03346655e+00],\n",
       "       [-3.13508197e-01],\n",
       "       [ 1.17500122e+00],\n",
       "       [ 6.64890091e-02],\n",
       "       [ 1.24821292e+00],\n",
       "       [-1.18761229e+00],\n",
       "       [ 1.40669624e+00],\n",
       "       [-1.56434170e-01],\n",
       "       [ 2.29220801e+00],\n",
       "       [-1.73795950e+00],\n",
       "       [-2.04032305e+00],\n",
       "       [ 7.71011738e-01],\n",
       "       [ 9.02525097e-03],\n",
       "       [-1.53495196e-01]])"
      ]
     },
     "execution_count": 3,
     "metadata": {},
     "output_type": "execute_result"
    }
   ],
   "source": [
    "x"
   ]
  },
  {
   "cell_type": "code",
   "execution_count": 4,
   "id": "e95063d7",
   "metadata": {},
   "outputs": [
    {
     "data": {
      "text/plain": [
       "array([ -39.28111368,   60.36088967,   75.52329534,   44.96973636,\n",
       "         67.66126148,  -72.56783539,   19.01828591,  -22.48725552,\n",
       "       -142.24576438,  -15.18039423,   30.97837048,   96.49616637,\n",
       "        -32.18524905,   -2.73343352,   51.91525767,    3.15477977,\n",
       "         59.67514565,  -39.18356672,   77.51342439,    2.12711018,\n",
       "         46.68645147,  -19.761177  ,  -48.75839881,  -64.53825927,\n",
       "         28.77572075,  -64.91364323,   19.42416802,   27.95857927,\n",
       "         47.08740928,  -84.85367831,   -5.27930487,    1.63049652,\n",
       "        -49.65719062,  115.44179673,  -15.90690036,   84.79331953,\n",
       "        -75.6361891 ,    9.44506047,   -1.10256915,   75.29608508,\n",
       "       -123.12209367,   -9.2643982 ,  -89.78307298,    6.92428027,\n",
       "         -1.37114106,  -25.12536695,   86.08123884,  -30.90683686,\n",
       "        -25.0568712 ,   57.12871401,  -59.45098934,  -31.08914872,\n",
       "        -19.63623245,   35.24070197, -105.60242742,  105.79285848,\n",
       "         33.5416947 ,   61.17460846,  -55.74511813,  -20.22825731,\n",
       "         22.61124007,  -98.27810976,    2.51352804,  -48.6592866 ,\n",
       "         -0.80311042,    7.54015095,   82.78973256,  -40.39608706,\n",
       "       -167.01636233,  -16.85774471,   38.07736278,   62.11552806,\n",
       "        -43.76716725,  -21.72322566, -145.21657026,   52.47950288,\n",
       "        -70.08095861,  -81.46341231,  -31.22319839,   31.93634207,\n",
       "          9.80885417,   16.27732067,  -82.0026651 ,   32.12925769,\n",
       "         19.84053667,    4.7638933 , -135.75753122,  -26.07994395,\n",
       "         74.9019179 ,    7.4922353 ,   37.76513716,  -77.51141039,\n",
       "        105.71270776,  -26.05475138,  157.64933729, -120.01528779,\n",
       "       -110.34447888,   19.41625394,  -24.34594172,   -6.97226993])"
      ]
     },
     "execution_count": 4,
     "metadata": {},
     "output_type": "execute_result"
    }
   ],
   "source": [
    "y"
   ]
  },
  {
   "cell_type": "code",
   "execution_count": 5,
   "id": "d192a98c",
   "metadata": {},
   "outputs": [],
   "source": [
    "import matplotlib.pyplot as plt"
   ]
  },
  {
   "cell_type": "code",
   "execution_count": 6,
   "id": "ba83b48b",
   "metadata": {},
   "outputs": [
    {
     "data": {
      "text/plain": [
       "<matplotlib.collections.PathCollection at 0x266a21000a0>"
      ]
     },
     "execution_count": 6,
     "metadata": {},
     "output_type": "execute_result"
    },
    {
     "data": {
      "image/png": "[encoded data removed]",
      "text/plain": [
       "<Figure size 640x480 with 1 Axes>"
      ]
     },
     "metadata": {},
     "output_type": "display_data"
    }
   ],
   "source": [
    "plt.scatter(x,y)\n"
   ]
  },
  {
   "cell_type": "code",
   "execution_count": 7,
   "id": "8205b8bb",
   "metadata": {},
   "outputs": [],
   "source": [
    "from sklearn.linear_model import LinearRegression"
   ]
  },
  {
   "cell_type": "code",
   "execution_count": 8,
   "id": "4230203b",
   "metadata": {},
   "outputs": [
    {
     "data": {
      "text/plain": [
       "LinearRegression()"
      ]
     },
     "execution_count": 8,
     "metadata": {},
     "output_type": "execute_result"
    }
   ],
   "source": [
    "lr = LinearRegression()\n",
    "lr.fit(x,y)"
   ]
  },
  {
   "cell_type": "code",
   "execution_count": 9,
   "id": "12c5d4bb",
   "metadata": {},
   "outputs": [
    {
     "data": {
      "text/plain": [
       "array([58.11865999])"
      ]
     },
     "execution_count": 9,
     "metadata": {},
     "output_type": "execute_result"
    }
   ],
   "source": [
    "lr.coef_"
   ]
  },
  {
   "cell_type": "code",
   "execution_count": 10,
   "id": "df4bc92b",
   "metadata": {},
   "outputs": [
    {
     "data": {
      "text/plain": [
       "0.5334392393890015"
      ]
     },
     "execution_count": 10,
     "metadata": {},
     "output_type": "execute_result"
    }
   ],
   "source": [
    "lr.intercept_"
   ]
  },
  {
   "cell_type": "code",
   "execution_count": 11,
   "id": "36ec408f",
   "metadata": {},
   "outputs": [],
   "source": [
    "from sklearn.model_selection import train_test_split"
   ]
  },
  {
   "cell_type": "code",
   "execution_count": 12,
   "id": "ec9b23b6",
   "metadata": {},
   "outputs": [],
   "source": [
    "x_train, x_test, y_train, y_test = train_test_split(x,y,test_size =0.2)"
   ]
  },
  {
   "cell_type": "code",
   "execution_count": 13,
   "id": "c1edcfba",
   "metadata": {},
   "outputs": [
    {
     "data": {
      "text/plain": [
       "LinearRegression()"
      ]
     },
     "execution_count": 13,
     "metadata": {},
     "output_type": "execute_result"
    }
   ],
   "source": [
    "lr.fit(x_train,y_train)"
   ]
  },
  {
   "cell_type": "code",
   "execution_count": 14,
   "id": "19594628",
   "metadata": {},
   "outputs": [],
   "source": [
    "y_pred = lr.predict(x_test)"
   ]
  },
  {
   "cell_type": "code",
   "execution_count": 15,
   "id": "00315c60",
   "metadata": {},
   "outputs": [
    {
     "data": {
      "text/plain": [
       "[<matplotlib.lines.Line2D at 0x266a45fa280>]"
      ]
     },
     "execution_count": 15,
     "metadata": {},
     "output_type": "execute_result"
    },
    {
     "data": {
      "image/png": "[encoded data removed]",
      "text/plain": [
       "<Figure size 640x480 with 1 Axes>"
      ]
     },
     "metadata": {},
     "output_type": "display_data"
    }
   ],
   "source": [
    "plt.scatter(x_train, y_train, color='red') \n",
    "plt.plot(x_test,y_pred, color='blue')"
   ]
  },
  {
   "cell_type": "markdown",
   "id": "28b0cb0b",
   "metadata": {},
   "source": [
    "### Ridge Regression"
   ]
  },
  {
   "cell_type": "code",
   "execution_count": 16,
   "id": "486ca74a",
   "metadata": {},
   "outputs": [],
   "source": [
    "from sklearn.linear_model import Ridge"
   ]
  },
  {
   "cell_type": "code",
   "execution_count": 17,
   "id": "385c8090",
   "metadata": {},
   "outputs": [],
   "source": [
    "r = Ridge(alpha = 10)"
   ]
  },
  {
   "cell_type": "code",
   "execution_count": 18,
   "id": "d5781591",
   "metadata": {},
   "outputs": [
    {
     "data": {
      "text/plain": [
       "Ridge(alpha=10)"
      ]
     },
     "execution_count": 18,
     "metadata": {},
     "output_type": "execute_result"
    }
   ],
   "source": [
    "r.fit(x,y)"
   ]
  },
  {
   "cell_type": "code",
   "execution_count": 19,
   "id": "6041b1c5",
   "metadata": {},
   "outputs": [
    {
     "data": {
      "text/plain": [
       "0.02050119898896341"
      ]
     },
     "execution_count": 19,
     "metadata": {},
     "output_type": "execute_result"
    }
   ],
   "source": [
    "r.intercept_"
   ]
  },
  {
   "cell_type": "code",
   "execution_count": 20,
   "id": "7d6c259f",
   "metadata": {},
   "outputs": [
    {
     "data": {
      "text/plain": [
       "array([53.17425635])"
      ]
     },
     "execution_count": 20,
     "metadata": {},
     "output_type": "execute_result"
    }
   ],
   "source": [
    "r.coef_"
   ]
  },
  {
   "cell_type": "code",
   "execution_count": 21,
   "id": "12a4068f",
   "metadata": {},
   "outputs": [
    {
     "name": "stdout",
     "output_type": "stream",
     "text": [
      "[30.11564938]\n",
      "-2.371624834224594\n"
     ]
    }
   ],
   "source": [
    "rr = Ridge(alpha=100)\n",
    "rr.fit(x,y)\n",
    "print(rr.coef_)\n",
    "print(rr.intercept_)"
   ]
  },
  {
   "cell_type": "code",
   "execution_count": 22,
   "id": "8e4bd0cf",
   "metadata": {},
   "outputs": [
    {
     "data": {
      "text/plain": [
       "<matplotlib.legend.Legend at 0x266a4b90370>"
      ]
     },
     "execution_count": 22,
     "metadata": {},
     "output_type": "execute_result"
    },
    {
     "data": {
      "image/png": "[encoded data removed]",
      "text/plain": [
       "<Figure size 640x480 with 1 Axes>"
      ]
     },
     "metadata": {},
     "output_type": "display_data"
    }
   ],
   "source": [
    "plt.plot(x,y,'b.')\n",
    "plt.plot(x,lr.predict(x),color='yellow',label='LR Line')\n",
    "plt.plot(x,r.predict(x),color='red',label='alpha=10')\n",
    "plt.plot(x,rr.predict(x),color='red',label='alpha=100')\n",
    "plt.legend()"
   ]
  },
  {
   "cell_type": "markdown",
   "id": "1683ac0f",
   "metadata": {},
   "source": [
    "### Aim: Demonstrate how coefficient effected by increasing the values of the lambda (alpha)"
   ]
  },
  {
   "cell_type": "code",
   "execution_count": 23,
   "id": "d00ae720",
   "metadata": {},
   "outputs": [],
   "source": [
    "from sklearn.datasets import load_diabetes\n",
    "import numpy as np\n",
    "import pandas as pd\n",
    "import matplotlib.pyplot as plt"
   ]
  },
  {
   "cell_type": "code",
   "execution_count": 24,
   "id": "976f3c1e",
   "metadata": {},
   "outputs": [
    {
     "data": {
      "text/plain": [
       "{'data': array([[ 0.03807591,  0.05068012,  0.06169621, ..., -0.00259226,\n",
       "          0.01990842, -0.01764613],\n",
       "        [-0.00188202, -0.04464164, -0.05147406, ..., -0.03949338,\n",
       "         -0.06832974, -0.09220405],\n",
       "        [ 0.08529891,  0.05068012,  0.04445121, ..., -0.00259226,\n",
       "          0.00286377, -0.02593034],\n",
       "        ...,\n",
       "        [ 0.04170844,  0.05068012, -0.01590626, ..., -0.01107952,\n",
       "         -0.04687948,  0.01549073],\n",
       "        [-0.04547248, -0.04464164,  0.03906215, ...,  0.02655962,\n",
       "          0.04452837, -0.02593034],\n",
       "        [-0.04547248, -0.04464164, -0.0730303 , ..., -0.03949338,\n",
       "         -0.00421986,  0.00306441]]),\n",
       " 'target': array([151.,  75., 141., 206., 135.,  97., 138.,  63., 110., 310., 101.,\n",
       "         69., 179., 185., 118., 171., 166., 144.,  97., 168.,  68.,  49.,\n",
       "         68., 245., 184., 202., 137.,  85., 131., 283., 129.,  59., 341.,\n",
       "         87.,  65., 102., 265., 276., 252.,  90., 100.,  55.,  61.,  92.,\n",
       "        259.,  53., 190., 142.,  75., 142., 155., 225.,  59., 104., 182.,\n",
       "        128.,  52.,  37., 170., 170.,  61., 144.,  52., 128.,  71., 163.,\n",
       "        150.,  97., 160., 178.,  48., 270., 202., 111.,  85.,  42., 170.,\n",
       "        200., 252., 113., 143.,  51.,  52., 210.,  65., 141.,  55., 134.,\n",
       "         42., 111.,  98., 164.,  48.,  96.,  90., 162., 150., 279.,  92.,\n",
       "         83., 128., 102., 302., 198.,  95.,  53., 134., 144., 232.,  81.,\n",
       "        104.,  59., 246., 297., 258., 229., 275., 281., 179., 200., 200.,\n",
       "        173., 180.,  84., 121., 161.,  99., 109., 115., 268., 274., 158.,\n",
       "        107.,  83., 103., 272.,  85., 280., 336., 281., 118., 317., 235.,\n",
       "         60., 174., 259., 178., 128.,  96., 126., 288.,  88., 292.,  71.,\n",
       "        197., 186.,  25.,  84.,  96., 195.,  53., 217., 172., 131., 214.,\n",
       "         59.,  70., 220., 268., 152.,  47.,  74., 295., 101., 151., 127.,\n",
       "        237., 225.,  81., 151., 107.,  64., 138., 185., 265., 101., 137.,\n",
       "        143., 141.,  79., 292., 178.,  91., 116.,  86., 122.,  72., 129.,\n",
       "        142.,  90., 158.,  39., 196., 222., 277.,  99., 196., 202., 155.,\n",
       "         77., 191.,  70.,  73.,  49.,  65., 263., 248., 296., 214., 185.,\n",
       "         78.,  93., 252., 150.,  77., 208.,  77., 108., 160.,  53., 220.,\n",
       "        154., 259.,  90., 246., 124.,  67.,  72., 257., 262., 275., 177.,\n",
       "         71.,  47., 187., 125.,  78.,  51., 258., 215., 303., 243.,  91.,\n",
       "        150., 310., 153., 346.,  63.,  89.,  50.,  39., 103., 308., 116.,\n",
       "        145.,  74.,  45., 115., 264.,  87., 202., 127., 182., 241.,  66.,\n",
       "         94., 283.,  64., 102., 200., 265.,  94., 230., 181., 156., 233.,\n",
       "         60., 219.,  80.,  68., 332., 248.,  84., 200.,  55.,  85.,  89.,\n",
       "         31., 129.,  83., 275.,  65., 198., 236., 253., 124.,  44., 172.,\n",
       "        114., 142., 109., 180., 144., 163., 147.,  97., 220., 190., 109.,\n",
       "        191., 122., 230., 242., 248., 249., 192., 131., 237.,  78., 135.,\n",
       "        244., 199., 270., 164.,  72.,  96., 306.,  91., 214.,  95., 216.,\n",
       "        263., 178., 113., 200., 139., 139.,  88., 148.,  88., 243.,  71.,\n",
       "         77., 109., 272.,  60.,  54., 221.,  90., 311., 281., 182., 321.,\n",
       "         58., 262., 206., 233., 242., 123., 167.,  63., 197.,  71., 168.,\n",
       "        140., 217., 121., 235., 245.,  40.,  52., 104., 132.,  88.,  69.,\n",
       "        219.,  72., 201., 110.,  51., 277.,  63., 118.,  69., 273., 258.,\n",
       "         43., 198., 242., 232., 175.,  93., 168., 275., 293., 281.,  72.,\n",
       "        140., 189., 181., 209., 136., 261., 113., 131., 174., 257.,  55.,\n",
       "         84.,  42., 146., 212., 233.,  91., 111., 152., 120.,  67., 310.,\n",
       "         94., 183.,  66., 173.,  72.,  49.,  64.,  48., 178., 104., 132.,\n",
       "        220.,  57.]),\n",
       " 'frame': None,\n",
       " 'DESCR': '.. _diabetes_dataset:\\n\\nDiabetes dataset\\n----------------\\n\\nTen baseline variables, age, sex, body mass index, average blood\\npressure, and six blood serum measurements were obtained for each of n =\\n442 diabetes patients, as well as the response of interest, a\\nquantitative measure of disease progression one year after baseline.\\n\\n**Data Set Characteristics:**\\n\\n  :Number of Instances: 442\\n\\n  :Number of Attributes: First 10 columns are numeric predictive values\\n\\n  :Target: Column 11 is a quantitative measure of disease progression one year after baseline\\n\\n  :Attribute Information:\\n      - age     age in years\\n      - sex\\n      - bmi     body mass index\\n      - bp      average blood pressure\\n      - s1      tc, total serum cholesterol\\n      - s2      ldl, low-density lipoproteins\\n      - s3      hdl, high-density lipoproteins\\n      - s4      tch, total cholesterol / HDL\\n      - s5      ltg, possibly log of serum triglycerides level\\n      - s6      glu, blood sugar level\\n\\nNote: Each of these 10 feature variables have been mean centered and scaled by the standard deviation times `n_samples` (i.e. the sum of squares of each column totals 1).\\n\\nSource URL:\\nhttps://www4.stat.ncsu.edu/~boos/var.select/diabetes.html\\n\\nFor more information see:\\nBradley Efron, Trevor Hastie, Iain Johnstone and Robert Tibshirani (2004) \"Least Angle Regression,\" Annals of Statistics (with discussion), 407-499.\\n(https://web.stanford.edu/~hastie/Papers/LARS/LeastAngle_2002.pdf)',\n",
       " 'feature_names': ['age',\n",
       "  'sex',\n",
       "  'bmi',\n",
       "  'bp',\n",
       "  's1',\n",
       "  's2',\n",
       "  's3',\n",
       "  's4',\n",
       "  's5',\n",
       "  's6'],\n",
       " 'data_filename': 'diabetes_data.csv.gz',\n",
       " 'target_filename': 'diabetes_target.csv.gz',\n",
       " 'data_module': 'sklearn.datasets.data'}"
      ]
     },
     "execution_count": 24,
     "metadata": {},
     "output_type": "execute_result"
    }
   ],
   "source": [
    "data = load_diabetes()\n",
    "data"
   ]
  },
  {
   "cell_type": "code",
   "execution_count": 25,
   "id": "1d793a68",
   "metadata": {},
   "outputs": [],
   "source": [
    "df = pd.DataFrame(data.data, columns = data.feature_names)"
   ]
  },
  {
   "cell_type": "code",
   "execution_count": 26,
   "id": "b84a51dc",
   "metadata": {},
   "outputs": [
    {
     "data": {
      "text/html": [
       "<div>\n",
       "<style scoped>\n",
       "    .dataframe tbody tr th:only-of-type {\n",
       "        vertical-align: middle;\n",
       "    }\n",
       "\n",
       "    .dataframe tbody tr th {\n",
       "        vertical-align: top;\n",
       "    }\n",
       "\n",
       "    .dataframe thead th {\n",
       "        text-align: right;\n",
       "    }\n",
       "</style>\n",
       "<table border=\"1\" class=\"dataframe\">\n",
       "  <thead>\n",
       "    <tr style=\"text-align: right;\">\n",
       "      <th></th>\n",
       "      <th>age</th>\n",
       "      <th>sex</th>\n",
       "      <th>bmi</th>\n",
       "      <th>bp</th>\n",
       "      <th>s1</th>\n",
       "      <th>s2</th>\n",
       "      <th>s3</th>\n",
       "      <th>s4</th>\n",
       "      <th>s5</th>\n",
       "      <th>s6</th>\n",
       "    </tr>\n",
       "  </thead>\n",
       "  <tbody>\n",
       "    <tr>\n",
       "      <th>0</th>\n",
       "      <td>0.038076</td>\n",
       "      <td>0.050680</td>\n",
       "      <td>0.061696</td>\n",
       "      <td>0.021872</td>\n",
       "      <td>-0.044223</td>\n",
       "      <td>-0.034821</td>\n",
       "      <td>-0.043401</td>\n",
       "      <td>-0.002592</td>\n",
       "      <td>0.019908</td>\n",
       "      <td>-0.017646</td>\n",
       "    </tr>\n",
       "    <tr>\n",
       "      <th>1</th>\n",
       "      <td>-0.001882</td>\n",
       "      <td>-0.044642</td>\n",
       "      <td>-0.051474</td>\n",
       "      <td>-0.026328</td>\n",
       "      <td>-0.008449</td>\n",
       "      <td>-0.019163</td>\n",
       "      <td>0.074412</td>\n",
       "      <td>-0.039493</td>\n",
       "      <td>-0.068330</td>\n",
       "      <td>-0.092204</td>\n",
       "    </tr>\n",
       "    <tr>\n",
       "      <th>2</th>\n",
       "      <td>0.085299</td>\n",
       "      <td>0.050680</td>\n",
       "      <td>0.044451</td>\n",
       "      <td>-0.005671</td>\n",
       "      <td>-0.045599</td>\n",
       "      <td>-0.034194</td>\n",
       "      <td>-0.032356</td>\n",
       "      <td>-0.002592</td>\n",
       "      <td>0.002864</td>\n",
       "      <td>-0.025930</td>\n",
       "    </tr>\n",
       "    <tr>\n",
       "      <th>3</th>\n",
       "      <td>-0.089063</td>\n",
       "      <td>-0.044642</td>\n",
       "      <td>-0.011595</td>\n",
       "      <td>-0.036656</td>\n",
       "      <td>0.012191</td>\n",
       "      <td>0.024991</td>\n",
       "      <td>-0.036038</td>\n",
       "      <td>0.034309</td>\n",
       "      <td>0.022692</td>\n",
       "      <td>-0.009362</td>\n",
       "    </tr>\n",
       "    <tr>\n",
       "      <th>4</th>\n",
       "      <td>0.005383</td>\n",
       "      <td>-0.044642</td>\n",
       "      <td>-0.036385</td>\n",
       "      <td>0.021872</td>\n",
       "      <td>0.003935</td>\n",
       "      <td>0.015596</td>\n",
       "      <td>0.008142</td>\n",
       "      <td>-0.002592</td>\n",
       "      <td>-0.031991</td>\n",
       "      <td>-0.046641</td>\n",
       "    </tr>\n",
       "    <tr>\n",
       "      <th>...</th>\n",
       "      <td>...</td>\n",
       "      <td>...</td>\n",
       "      <td>...</td>\n",
       "      <td>...</td>\n",
       "      <td>...</td>\n",
       "      <td>...</td>\n",
       "      <td>...</td>\n",
       "      <td>...</td>\n",
       "      <td>...</td>\n",
       "      <td>...</td>\n",
       "    </tr>\n",
       "    <tr>\n",
       "      <th>437</th>\n",
       "      <td>0.041708</td>\n",
       "      <td>0.050680</td>\n",
       "      <td>0.019662</td>\n",
       "      <td>0.059744</td>\n",
       "      <td>-0.005697</td>\n",
       "      <td>-0.002566</td>\n",
       "      <td>-0.028674</td>\n",
       "      <td>-0.002592</td>\n",
       "      <td>0.031193</td>\n",
       "      <td>0.007207</td>\n",
       "    </tr>\n",
       "    <tr>\n",
       "      <th>438</th>\n",
       "      <td>-0.005515</td>\n",
       "      <td>0.050680</td>\n",
       "      <td>-0.015906</td>\n",
       "      <td>-0.067642</td>\n",
       "      <td>0.049341</td>\n",
       "      <td>0.079165</td>\n",
       "      <td>-0.028674</td>\n",
       "      <td>0.034309</td>\n",
       "      <td>-0.018118</td>\n",
       "      <td>0.044485</td>\n",
       "    </tr>\n",
       "    <tr>\n",
       "      <th>439</th>\n",
       "      <td>0.041708</td>\n",
       "      <td>0.050680</td>\n",
       "      <td>-0.015906</td>\n",
       "      <td>0.017282</td>\n",
       "      <td>-0.037344</td>\n",
       "      <td>-0.013840</td>\n",
       "      <td>-0.024993</td>\n",
       "      <td>-0.011080</td>\n",
       "      <td>-0.046879</td>\n",
       "      <td>0.015491</td>\n",
       "    </tr>\n",
       "    <tr>\n",
       "      <th>440</th>\n",
       "      <td>-0.045472</td>\n",
       "      <td>-0.044642</td>\n",
       "      <td>0.039062</td>\n",
       "      <td>0.001215</td>\n",
       "      <td>0.016318</td>\n",
       "      <td>0.015283</td>\n",
       "      <td>-0.028674</td>\n",
       "      <td>0.026560</td>\n",
       "      <td>0.044528</td>\n",
       "      <td>-0.025930</td>\n",
       "    </tr>\n",
       "    <tr>\n",
       "      <th>441</th>\n",
       "      <td>-0.045472</td>\n",
       "      <td>-0.044642</td>\n",
       "      <td>-0.073030</td>\n",
       "      <td>-0.081414</td>\n",
       "      <td>0.083740</td>\n",
       "      <td>0.027809</td>\n",
       "      <td>0.173816</td>\n",
       "      <td>-0.039493</td>\n",
       "      <td>-0.004220</td>\n",
       "      <td>0.003064</td>\n",
       "    </tr>\n",
       "  </tbody>\n",
       "</table>\n",
       "<p>442 rows × 10 columns</p>\n",
       "</div>"
      ],
      "text/plain": [
       "          age       sex       bmi        bp        s1        s2        s3  \\\n",
       "0    0.038076  0.050680  0.061696  0.021872 -0.044223 -0.034821 -0.043401   \n",
       "1   -0.001882 -0.044642 -0.051474 -0.026328 -0.008449 -0.019163  0.074412   \n",
       "2    0.085299  0.050680  0.044451 -0.005671 -0.045599 -0.034194 -0.032356   \n",
       "3   -0.089063 -0.044642 -0.011595 -0.036656  0.012191  0.024991 -0.036038   \n",
       "4    0.005383 -0.044642 -0.036385  0.021872  0.003935  0.015596  0.008142   \n",
       "..        ...       ...       ...       ...       ...       ...       ...   \n",
       "437  0.041708  0.050680  0.019662  0.059744 -0.005697 -0.002566 -0.028674   \n",
       "438 -0.005515  0.050680 -0.015906 -0.067642  0.049341  0.079165 -0.028674   \n",
       "439  0.041708  0.050680 -0.015906  0.017282 -0.037344 -0.013840 -0.024993   \n",
       "440 -0.045472 -0.044642  0.039062  0.001215  0.016318  0.015283 -0.028674   \n",
       "441 -0.045472 -0.044642 -0.073030 -0.081414  0.083740  0.027809  0.173816   \n",
       "\n",
       "           s4        s5        s6  \n",
       "0   -0.002592  0.019908 -0.017646  \n",
       "1   -0.039493 -0.068330 -0.092204  \n",
       "2   -0.002592  0.002864 -0.025930  \n",
       "3    0.034309  0.022692 -0.009362  \n",
       "4   -0.002592 -0.031991 -0.046641  \n",
       "..        ...       ...       ...  \n",
       "437 -0.002592  0.031193  0.007207  \n",
       "438  0.034309 -0.018118  0.044485  \n",
       "439 -0.011080 -0.046879  0.015491  \n",
       "440  0.026560  0.044528 -0.025930  \n",
       "441 -0.039493 -0.004220  0.003064  \n",
       "\n",
       "[442 rows x 10 columns]"
      ]
     },
     "execution_count": 26,
     "metadata": {},
     "output_type": "execute_result"
    }
   ],
   "source": [
    "df"
   ]
  },
  {
   "cell_type": "code",
   "execution_count": 27,
   "id": "18e04adc",
   "metadata": {},
   "outputs": [
    {
     "data": {
      "text/html": [
       "<div>\n",
       "<style scoped>\n",
       "    .dataframe tbody tr th:only-of-type {\n",
       "        vertical-align: middle;\n",
       "    }\n",
       "\n",
       "    .dataframe tbody tr th {\n",
       "        vertical-align: top;\n",
       "    }\n",
       "\n",
       "    .dataframe thead th {\n",
       "        text-align: right;\n",
       "    }\n",
       "</style>\n",
       "<table border=\"1\" class=\"dataframe\">\n",
       "  <thead>\n",
       "    <tr style=\"text-align: right;\">\n",
       "      <th></th>\n",
       "      <th>age</th>\n",
       "      <th>sex</th>\n",
       "      <th>bmi</th>\n",
       "      <th>bp</th>\n",
       "      <th>s1</th>\n",
       "      <th>s2</th>\n",
       "      <th>s3</th>\n",
       "      <th>s4</th>\n",
       "      <th>s5</th>\n",
       "      <th>s6</th>\n",
       "      <th>Target</th>\n",
       "    </tr>\n",
       "  </thead>\n",
       "  <tbody>\n",
       "    <tr>\n",
       "      <th>0</th>\n",
       "      <td>0.038076</td>\n",
       "      <td>0.050680</td>\n",
       "      <td>0.061696</td>\n",
       "      <td>0.021872</td>\n",
       "      <td>-0.044223</td>\n",
       "      <td>-0.034821</td>\n",
       "      <td>-0.043401</td>\n",
       "      <td>-0.002592</td>\n",
       "      <td>0.019908</td>\n",
       "      <td>-0.017646</td>\n",
       "      <td>151.0</td>\n",
       "    </tr>\n",
       "    <tr>\n",
       "      <th>1</th>\n",
       "      <td>-0.001882</td>\n",
       "      <td>-0.044642</td>\n",
       "      <td>-0.051474</td>\n",
       "      <td>-0.026328</td>\n",
       "      <td>-0.008449</td>\n",
       "      <td>-0.019163</td>\n",
       "      <td>0.074412</td>\n",
       "      <td>-0.039493</td>\n",
       "      <td>-0.068330</td>\n",
       "      <td>-0.092204</td>\n",
       "      <td>75.0</td>\n",
       "    </tr>\n",
       "    <tr>\n",
       "      <th>2</th>\n",
       "      <td>0.085299</td>\n",
       "      <td>0.050680</td>\n",
       "      <td>0.044451</td>\n",
       "      <td>-0.005671</td>\n",
       "      <td>-0.045599</td>\n",
       "      <td>-0.034194</td>\n",
       "      <td>-0.032356</td>\n",
       "      <td>-0.002592</td>\n",
       "      <td>0.002864</td>\n",
       "      <td>-0.025930</td>\n",
       "      <td>141.0</td>\n",
       "    </tr>\n",
       "    <tr>\n",
       "      <th>3</th>\n",
       "      <td>-0.089063</td>\n",
       "      <td>-0.044642</td>\n",
       "      <td>-0.011595</td>\n",
       "      <td>-0.036656</td>\n",
       "      <td>0.012191</td>\n",
       "      <td>0.024991</td>\n",
       "      <td>-0.036038</td>\n",
       "      <td>0.034309</td>\n",
       "      <td>0.022692</td>\n",
       "      <td>-0.009362</td>\n",
       "      <td>206.0</td>\n",
       "    </tr>\n",
       "    <tr>\n",
       "      <th>4</th>\n",
       "      <td>0.005383</td>\n",
       "      <td>-0.044642</td>\n",
       "      <td>-0.036385</td>\n",
       "      <td>0.021872</td>\n",
       "      <td>0.003935</td>\n",
       "      <td>0.015596</td>\n",
       "      <td>0.008142</td>\n",
       "      <td>-0.002592</td>\n",
       "      <td>-0.031991</td>\n",
       "      <td>-0.046641</td>\n",
       "      <td>135.0</td>\n",
       "    </tr>\n",
       "    <tr>\n",
       "      <th>...</th>\n",
       "      <td>...</td>\n",
       "      <td>...</td>\n",
       "      <td>...</td>\n",
       "      <td>...</td>\n",
       "      <td>...</td>\n",
       "      <td>...</td>\n",
       "      <td>...</td>\n",
       "      <td>...</td>\n",
       "      <td>...</td>\n",
       "      <td>...</td>\n",
       "      <td>...</td>\n",
       "    </tr>\n",
       "    <tr>\n",
       "      <th>437</th>\n",
       "      <td>0.041708</td>\n",
       "      <td>0.050680</td>\n",
       "      <td>0.019662</td>\n",
       "      <td>0.059744</td>\n",
       "      <td>-0.005697</td>\n",
       "      <td>-0.002566</td>\n",
       "      <td>-0.028674</td>\n",
       "      <td>-0.002592</td>\n",
       "      <td>0.031193</td>\n",
       "      <td>0.007207</td>\n",
       "      <td>178.0</td>\n",
       "    </tr>\n",
       "    <tr>\n",
       "      <th>438</th>\n",
       "      <td>-0.005515</td>\n",
       "      <td>0.050680</td>\n",
       "      <td>-0.015906</td>\n",
       "      <td>-0.067642</td>\n",
       "      <td>0.049341</td>\n",
       "      <td>0.079165</td>\n",
       "      <td>-0.028674</td>\n",
       "      <td>0.034309</td>\n",
       "      <td>-0.018118</td>\n",
       "      <td>0.044485</td>\n",
       "      <td>104.0</td>\n",
       "    </tr>\n",
       "    <tr>\n",
       "      <th>439</th>\n",
       "      <td>0.041708</td>\n",
       "      <td>0.050680</td>\n",
       "      <td>-0.015906</td>\n",
       "      <td>0.017282</td>\n",
       "      <td>-0.037344</td>\n",
       "      <td>-0.013840</td>\n",
       "      <td>-0.024993</td>\n",
       "      <td>-0.011080</td>\n",
       "      <td>-0.046879</td>\n",
       "      <td>0.015491</td>\n",
       "      <td>132.0</td>\n",
       "    </tr>\n",
       "    <tr>\n",
       "      <th>440</th>\n",
       "      <td>-0.045472</td>\n",
       "      <td>-0.044642</td>\n",
       "      <td>0.039062</td>\n",
       "      <td>0.001215</td>\n",
       "      <td>0.016318</td>\n",
       "      <td>0.015283</td>\n",
       "      <td>-0.028674</td>\n",
       "      <td>0.026560</td>\n",
       "      <td>0.044528</td>\n",
       "      <td>-0.025930</td>\n",
       "      <td>220.0</td>\n",
       "    </tr>\n",
       "    <tr>\n",
       "      <th>441</th>\n",
       "      <td>-0.045472</td>\n",
       "      <td>-0.044642</td>\n",
       "      <td>-0.073030</td>\n",
       "      <td>-0.081414</td>\n",
       "      <td>0.083740</td>\n",
       "      <td>0.027809</td>\n",
       "      <td>0.173816</td>\n",
       "      <td>-0.039493</td>\n",
       "      <td>-0.004220</td>\n",
       "      <td>0.003064</td>\n",
       "      <td>57.0</td>\n",
       "    </tr>\n",
       "  </tbody>\n",
       "</table>\n",
       "<p>442 rows × 11 columns</p>\n",
       "</div>"
      ],
      "text/plain": [
       "          age       sex       bmi        bp        s1        s2        s3  \\\n",
       "0    0.038076  0.050680  0.061696  0.021872 -0.044223 -0.034821 -0.043401   \n",
       "1   -0.001882 -0.044642 -0.051474 -0.026328 -0.008449 -0.019163  0.074412   \n",
       "2    0.085299  0.050680  0.044451 -0.005671 -0.045599 -0.034194 -0.032356   \n",
       "3   -0.089063 -0.044642 -0.011595 -0.036656  0.012191  0.024991 -0.036038   \n",
       "4    0.005383 -0.044642 -0.036385  0.021872  0.003935  0.015596  0.008142   \n",
       "..        ...       ...       ...       ...       ...       ...       ...   \n",
       "437  0.041708  0.050680  0.019662  0.059744 -0.005697 -0.002566 -0.028674   \n",
       "438 -0.005515  0.050680 -0.015906 -0.067642  0.049341  0.079165 -0.028674   \n",
       "439  0.041708  0.050680 -0.015906  0.017282 -0.037344 -0.013840 -0.024993   \n",
       "440 -0.045472 -0.044642  0.039062  0.001215  0.016318  0.015283 -0.028674   \n",
       "441 -0.045472 -0.044642 -0.073030 -0.081414  0.083740  0.027809  0.173816   \n",
       "\n",
       "           s4        s5        s6  Target  \n",
       "0   -0.002592  0.019908 -0.017646   151.0  \n",
       "1   -0.039493 -0.068330 -0.092204    75.0  \n",
       "2   -0.002592  0.002864 -0.025930   141.0  \n",
       "3    0.034309  0.022692 -0.009362   206.0  \n",
       "4   -0.002592 -0.031991 -0.046641   135.0  \n",
       "..        ...       ...       ...     ...  \n",
       "437 -0.002592  0.031193  0.007207   178.0  \n",
       "438  0.034309 -0.018118  0.044485   104.0  \n",
       "439 -0.011080 -0.046879  0.015491   132.0  \n",
       "440  0.026560  0.044528 -0.025930   220.0  \n",
       "441 -0.039493 -0.004220  0.003064    57.0  \n",
       "\n",
       "[442 rows x 11 columns]"
      ]
     },
     "execution_count": 27,
     "metadata": {},
     "output_type": "execute_result"
    }
   ],
   "source": [
    "df[\"Target\"] = data.target\n",
    "df"
   ]
  },
  {
   "cell_type": "code",
   "execution_count": 28,
   "id": "b840572d",
   "metadata": {},
   "outputs": [],
   "source": [
    "from sklearn.model_selection import train_test_split\n",
    "x_train, x_test, y_train, y_test = train_test_split(data.data,data.target,test_size=0.2,random_state=2)"
   ]
  },
  {
   "cell_type": "code",
   "execution_count": 29,
   "id": "d32482fd",
   "metadata": {},
   "outputs": [
    {
     "data": {
      "text/plain": [
       "array([[-0.00188202, -0.04464164, -0.06979687, ..., -0.03949338,\n",
       "        -0.06291295,  0.04034337],\n",
       "       [-0.00914709, -0.04464164,  0.01103904, ..., -0.03949338,\n",
       "         0.01703713, -0.0052198 ],\n",
       "       [ 0.02354575,  0.05068012, -0.02021751, ..., -0.03949338,\n",
       "        -0.09643322, -0.01764613],\n",
       "       ...,\n",
       "       [ 0.06350368,  0.05068012, -0.00405033, ..., -0.00259226,\n",
       "         0.08449528, -0.01764613],\n",
       "       [-0.05273755,  0.05068012, -0.01806189, ...,  0.1081111 ,\n",
       "         0.03605579, -0.04249877],\n",
       "       [ 0.00175052,  0.05068012,  0.05954058, ...,  0.1081111 ,\n",
       "         0.06898221,  0.12732762]])"
      ]
     },
     "execution_count": 29,
     "metadata": {},
     "output_type": "execute_result"
    }
   ],
   "source": [
    "x_train"
   ]
  },
  {
   "cell_type": "code",
   "execution_count": 30,
   "id": "de8d3f70",
   "metadata": {},
   "outputs": [
    {
     "data": {
      "text/plain": [
       "353"
      ]
     },
     "execution_count": 30,
     "metadata": {},
     "output_type": "execute_result"
    }
   ],
   "source": [
    "len(x_train)"
   ]
  },
  {
   "cell_type": "code",
   "execution_count": 31,
   "id": "cc7a54cf",
   "metadata": {},
   "outputs": [
    {
     "data": {
      "text/plain": [
       "89"
      ]
     },
     "execution_count": 31,
     "metadata": {},
     "output_type": "execute_result"
    }
   ],
   "source": [
    "len(x_test)"
   ]
  },
  {
   "cell_type": "code",
   "execution_count": 32,
   "id": "087d8f05",
   "metadata": {},
   "outputs": [],
   "source": [
    "from sklearn.linear_model import Ridge\n",
    "from sklearn.metrics import r2_score"
   ]
  },
  {
   "cell_type": "code",
   "execution_count": 33,
   "id": "e0355ed8",
   "metadata": {},
   "outputs": [],
   "source": [
    "coefs=[]\n",
    "r2_scores=[]\n",
    "for i in [0,10,100,1000]:\n",
    "    reg = Ridge(alpha=i)\n",
    "    reg.fit(x_train,y_train)\n",
    "    \n",
    "    coefs.append(reg.coef_.tolist())\n",
    "    y_pred = reg.predict(x_test)\n",
    "    r2_scores.append(r2_score(y_test,y_pred))"
   ]
  },
  {
   "cell_type": "code",
   "execution_count": 34,
   "id": "cf7e8937",
   "metadata": {},
   "outputs": [
    {
     "data": {
      "text/plain": [
       "[[-9.160884832462946,\n",
       "  -205.46225987708942,\n",
       "  516.6846238313877,\n",
       "  340.6273410788917,\n",
       "  -895.5436086743692,\n",
       "  561.2145330559102,\n",
       "  153.88478595250456,\n",
       "  126.73431596154002,\n",
       "  861.121399546191,\n",
       "  52.41982835857462],\n",
       " [21.17400371774998,\n",
       "  1.6597961347385295,\n",
       "  63.659771901799694,\n",
       "  48.493240031697546,\n",
       "  18.42149199047282,\n",
       "  12.875448426495625,\n",
       "  -38.91543505723751,\n",
       "  38.84246372206304,\n",
       "  61.61240510619145,\n",
       "  35.505355265613154],\n",
       " [2.8589794382553495,\n",
       "  0.6294520371235341,\n",
       "  7.5406044960945104,\n",
       "  5.849996643873588,\n",
       "  2.710878515266963,\n",
       "  2.142134389296116,\n",
       "  -4.834046968577792,\n",
       "  5.108223239548696,\n",
       "  7.4484662433551705,\n",
       "  4.576128672131118],\n",
       " [0.29572556030095387,\n",
       "  0.06929028636932691,\n",
       "  0.769003806199464,\n",
       "  0.5978292887031436,\n",
       "  0.28289951335334357,\n",
       "  0.22593550596063294,\n",
       "  -0.4956069088303587,\n",
       "  0.5270313419211984,\n",
       "  0.7614974792951518,\n",
       "  0.4710290658232608]]"
      ]
     },
     "execution_count": 34,
     "metadata": {},
     "output_type": "execute_result"
    }
   ],
   "source": [
    "coefs"
   ]
  },
  {
   "cell_type": "code",
   "execution_count": 35,
   "id": "a4cae223",
   "metadata": {},
   "outputs": [
    {
     "data": {
      "text/plain": [
       "[0.43993876600246395,\n",
       " 0.15214316037162345,\n",
       " 0.0103781053510128,\n",
       " -0.010136671491364435]"
      ]
     },
     "execution_count": 35,
     "metadata": {},
     "output_type": "execute_result"
    }
   ],
   "source": [
    "r2_scores"
   ]
  },
  {
   "cell_type": "code",
   "execution_count": 36,
   "id": "5fe06239",
   "metadata": {},
   "outputs": [
    {
     "data": {
      "text/plain": [
       "Text(0.5, 1.0, 'Alpha=1000,r2_score=-0.01')"
      ]
     },
     "execution_count": 36,
     "metadata": {},
     "output_type": "execute_result"
    },
    {
     "data": {
      "image/png": "[encoded data removed]",
      "text/plain": [
       "<Figure size 1400x900 with 4 Axes>"
      ]
     },
     "metadata": {},
     "output_type": "display_data"
    }
   ],
   "source": [
    "plt.figure(figsize=(14,9))\n",
    "plt.subplot(221)\n",
    "plt.bar(data.feature_names,coefs[0])\n",
    "plt.title(\"Alpha=0,r2_score={}\".format(round(r2_scores[0],2)))\n",
    "\n",
    "plt.subplot(222)\n",
    "plt.bar(data.feature_names,coefs[1])\n",
    "plt.title(\"Alpha=10,r2_score={}\".format(round(r2_scores[1],2)))\n",
    "\n",
    "plt.subplot(223)\n",
    "plt.bar(data.feature_names,coefs[2])\n",
    "plt.title(\"Alpha=100,r2_score={}\".format(round(r2_scores[2],2)))\n",
    "\n",
    "plt.subplot(224)\n",
    "plt.bar(data.feature_names,coefs[3])\n",
    "plt.title(\"Alpha=1000,r2_score={}\".format(round(r2_scores[3],2)))"
   ]
  },
  {
   "cell_type": "markdown",
   "id": "be9dbae1",
   "metadata": {},
   "source": [
    "### Aim:- In Ridge Regression prove that 'The more higher co-efficient are affected more'"
   ]
  },
  {
   "cell_type": "code",
   "execution_count": 37,
   "id": "66360f12",
   "metadata": {},
   "outputs": [],
   "source": [
    "coefs=[]\n",
    "alphas = [0,0.0001,0.001,0.01,0.1,1,10,100,1000,10000]\n",
    "\n",
    "for i in alphas:\n",
    "    reg = Ridge(alpha=i)\n",
    "    reg.fit(x_train,y_train)\n",
    "    coefs.append(reg.coef_.tolist())"
   ]
  },
  {
   "cell_type": "code",
   "execution_count": 38,
   "id": "209c6f69",
   "metadata": {},
   "outputs": [],
   "source": [
    "np_arr = np.array(coefs)"
   ]
  },
  {
   "cell_type": "code",
   "execution_count": 39,
   "id": "33fcbf35",
   "metadata": {},
   "outputs": [
    {
     "data": {
      "text/plain": [
       "array([[-9.16088483e+00, -2.05462260e+02,  5.16684624e+02,\n",
       "         3.40627341e+02, -8.95543609e+02,  5.61214533e+02,\n",
       "         1.53884786e+02,  1.26734316e+02,  8.61121400e+02,\n",
       "         5.24198284e+01],\n",
       "       [-9.11833565e+00, -2.05337133e+02,  5.16880570e+02,\n",
       "         3.40556792e+02, -8.83415291e+02,  5.51553259e+02,\n",
       "         1.48578680e+02,  1.25355917e+02,  8.56480254e+02,\n",
       "         5.24676274e+01],\n",
       "       [-8.76358326e+00, -2.04321125e+02,  5.18371729e+02,\n",
       "         3.39975385e+02, -7.87690766e+02,  4.75274718e+02,\n",
       "         1.06786540e+02,  1.14632063e+02,  8.19739542e+02,\n",
       "         5.28720997e+01],\n",
       "       [-6.40108775e+00, -1.98669767e+02,  5.22048548e+02,\n",
       "         3.36348363e+02, -3.83709187e+02,  1.52663678e+02,\n",
       "        -6.60605829e+01,  7.56110899e+01,  6.59869402e+02,\n",
       "         5.58281278e+01],\n",
       "       [ 6.64275308e+00, -1.72242166e+02,  4.85523872e+02,\n",
       "         3.14682122e+02, -7.29393231e+01, -8.05900534e+01,\n",
       "        -1.74466515e+02,  8.36166532e+01,  4.84363285e+02,\n",
       "         7.35841541e+01],\n",
       "       [ 4.22422167e+01, -5.73055082e+01,  2.82170831e+02,\n",
       "         1.98061386e+02,  1.43635436e+01, -2.25512737e+01,\n",
       "        -1.36930053e+02,  1.02023193e+02,  2.60104308e+02,\n",
       "         9.85522742e+01],\n",
       "       [ 2.11740037e+01,  1.65979613e+00,  6.36597719e+01,\n",
       "         4.84932400e+01,  1.84214920e+01,  1.28754484e+01,\n",
       "        -3.89154351e+01,  3.88424637e+01,  6.16124051e+01,\n",
       "         3.55053553e+01],\n",
       "       [ 2.85897944e+00,  6.29452037e-01,  7.54060450e+00,\n",
       "         5.84999664e+00,  2.71087852e+00,  2.14213439e+00,\n",
       "        -4.83404697e+00,  5.10822324e+00,  7.44846624e+00,\n",
       "         4.57612867e+00],\n",
       "       [ 2.95725560e-01,  6.92902864e-02,  7.69003806e-01,\n",
       "         5.97829289e-01,  2.82899513e-01,  2.25935506e-01,\n",
       "        -4.95606909e-01,  5.27031342e-01,  7.61497479e-01,\n",
       "         4.71029066e-01],\n",
       "       [ 2.96740144e-02,  6.99474361e-03,  7.70539866e-02,\n",
       "         5.99149157e-02,  2.84122313e-02,  2.27150075e-02,\n",
       "        -4.96863508e-02,  5.28704676e-02,  7.63212193e-02,\n",
       "         4.72412229e-02]])"
      ]
     },
     "execution_count": 39,
     "metadata": {},
     "output_type": "execute_result"
    }
   ],
   "source": [
    "np_arr"
   ]
  },
  {
   "cell_type": "code",
   "execution_count": 40,
   "id": "1fba58aa",
   "metadata": {},
   "outputs": [
    {
     "data": {
      "text/html": [
       "<div>\n",
       "<style scoped>\n",
       "    .dataframe tbody tr th:only-of-type {\n",
       "        vertical-align: middle;\n",
       "    }\n",
       "\n",
       "    .dataframe tbody tr th {\n",
       "        vertical-align: top;\n",
       "    }\n",
       "\n",
       "    .dataframe thead th {\n",
       "        text-align: right;\n",
       "    }\n",
       "</style>\n",
       "<table border=\"1\" class=\"dataframe\">\n",
       "  <thead>\n",
       "    <tr style=\"text-align: right;\">\n",
       "      <th></th>\n",
       "      <th>age</th>\n",
       "      <th>sex</th>\n",
       "      <th>bmi</th>\n",
       "      <th>bp</th>\n",
       "      <th>s1</th>\n",
       "      <th>s2</th>\n",
       "      <th>s3</th>\n",
       "      <th>s4</th>\n",
       "      <th>s5</th>\n",
       "      <th>s6</th>\n",
       "    </tr>\n",
       "    <tr>\n",
       "      <th>alpha</th>\n",
       "      <th></th>\n",
       "      <th></th>\n",
       "      <th></th>\n",
       "      <th></th>\n",
       "      <th></th>\n",
       "      <th></th>\n",
       "      <th></th>\n",
       "      <th></th>\n",
       "      <th></th>\n",
       "      <th></th>\n",
       "    </tr>\n",
       "  </thead>\n",
       "  <tbody>\n",
       "    <tr>\n",
       "      <th>0.0000</th>\n",
       "      <td>-9.160885</td>\n",
       "      <td>-205.462260</td>\n",
       "      <td>516.684624</td>\n",
       "      <td>340.627341</td>\n",
       "      <td>-895.543609</td>\n",
       "      <td>561.214533</td>\n",
       "      <td>153.884786</td>\n",
       "      <td>126.734316</td>\n",
       "      <td>861.121400</td>\n",
       "      <td>52.419828</td>\n",
       "    </tr>\n",
       "    <tr>\n",
       "      <th>0.0001</th>\n",
       "      <td>-9.118336</td>\n",
       "      <td>-205.337133</td>\n",
       "      <td>516.880570</td>\n",
       "      <td>340.556792</td>\n",
       "      <td>-883.415291</td>\n",
       "      <td>551.553259</td>\n",
       "      <td>148.578680</td>\n",
       "      <td>125.355917</td>\n",
       "      <td>856.480254</td>\n",
       "      <td>52.467627</td>\n",
       "    </tr>\n",
       "    <tr>\n",
       "      <th>0.0010</th>\n",
       "      <td>-8.763583</td>\n",
       "      <td>-204.321125</td>\n",
       "      <td>518.371729</td>\n",
       "      <td>339.975385</td>\n",
       "      <td>-787.690766</td>\n",
       "      <td>475.274718</td>\n",
       "      <td>106.786540</td>\n",
       "      <td>114.632063</td>\n",
       "      <td>819.739542</td>\n",
       "      <td>52.872100</td>\n",
       "    </tr>\n",
       "    <tr>\n",
       "      <th>0.0100</th>\n",
       "      <td>-6.401088</td>\n",
       "      <td>-198.669767</td>\n",
       "      <td>522.048548</td>\n",
       "      <td>336.348363</td>\n",
       "      <td>-383.709187</td>\n",
       "      <td>152.663678</td>\n",
       "      <td>-66.060583</td>\n",
       "      <td>75.611090</td>\n",
       "      <td>659.869402</td>\n",
       "      <td>55.828128</td>\n",
       "    </tr>\n",
       "    <tr>\n",
       "      <th>0.1000</th>\n",
       "      <td>6.642753</td>\n",
       "      <td>-172.242166</td>\n",
       "      <td>485.523872</td>\n",
       "      <td>314.682122</td>\n",
       "      <td>-72.939323</td>\n",
       "      <td>-80.590053</td>\n",
       "      <td>-174.466515</td>\n",
       "      <td>83.616653</td>\n",
       "      <td>484.363285</td>\n",
       "      <td>73.584154</td>\n",
       "    </tr>\n",
       "    <tr>\n",
       "      <th>1.0000</th>\n",
       "      <td>42.242217</td>\n",
       "      <td>-57.305508</td>\n",
       "      <td>282.170831</td>\n",
       "      <td>198.061386</td>\n",
       "      <td>14.363544</td>\n",
       "      <td>-22.551274</td>\n",
       "      <td>-136.930053</td>\n",
       "      <td>102.023193</td>\n",
       "      <td>260.104308</td>\n",
       "      <td>98.552274</td>\n",
       "    </tr>\n",
       "    <tr>\n",
       "      <th>10.0000</th>\n",
       "      <td>21.174004</td>\n",
       "      <td>1.659796</td>\n",
       "      <td>63.659772</td>\n",
       "      <td>48.493240</td>\n",
       "      <td>18.421492</td>\n",
       "      <td>12.875448</td>\n",
       "      <td>-38.915435</td>\n",
       "      <td>38.842464</td>\n",
       "      <td>61.612405</td>\n",
       "      <td>35.505355</td>\n",
       "    </tr>\n",
       "    <tr>\n",
       "      <th>100.0000</th>\n",
       "      <td>2.858979</td>\n",
       "      <td>0.629452</td>\n",
       "      <td>7.540604</td>\n",
       "      <td>5.849997</td>\n",
       "      <td>2.710879</td>\n",
       "      <td>2.142134</td>\n",
       "      <td>-4.834047</td>\n",
       "      <td>5.108223</td>\n",
       "      <td>7.448466</td>\n",
       "      <td>4.576129</td>\n",
       "    </tr>\n",
       "    <tr>\n",
       "      <th>1000.0000</th>\n",
       "      <td>0.295726</td>\n",
       "      <td>0.069290</td>\n",
       "      <td>0.769004</td>\n",
       "      <td>0.597829</td>\n",
       "      <td>0.282900</td>\n",
       "      <td>0.225936</td>\n",
       "      <td>-0.495607</td>\n",
       "      <td>0.527031</td>\n",
       "      <td>0.761497</td>\n",
       "      <td>0.471029</td>\n",
       "    </tr>\n",
       "    <tr>\n",
       "      <th>10000.0000</th>\n",
       "      <td>0.029674</td>\n",
       "      <td>0.006995</td>\n",
       "      <td>0.077054</td>\n",
       "      <td>0.059915</td>\n",
       "      <td>0.028412</td>\n",
       "      <td>0.022715</td>\n",
       "      <td>-0.049686</td>\n",
       "      <td>0.052870</td>\n",
       "      <td>0.076321</td>\n",
       "      <td>0.047241</td>\n",
       "    </tr>\n",
       "  </tbody>\n",
       "</table>\n",
       "</div>"
      ],
      "text/plain": [
       "                  age         sex         bmi          bp          s1  \\\n",
       "alpha                                                                   \n",
       "0.0000      -9.160885 -205.462260  516.684624  340.627341 -895.543609   \n",
       "0.0001      -9.118336 -205.337133  516.880570  340.556792 -883.415291   \n",
       "0.0010      -8.763583 -204.321125  518.371729  339.975385 -787.690766   \n",
       "0.0100      -6.401088 -198.669767  522.048548  336.348363 -383.709187   \n",
       "0.1000       6.642753 -172.242166  485.523872  314.682122  -72.939323   \n",
       "1.0000      42.242217  -57.305508  282.170831  198.061386   14.363544   \n",
       "10.0000     21.174004    1.659796   63.659772   48.493240   18.421492   \n",
       "100.0000     2.858979    0.629452    7.540604    5.849997    2.710879   \n",
       "1000.0000    0.295726    0.069290    0.769004    0.597829    0.282900   \n",
       "10000.0000   0.029674    0.006995    0.077054    0.059915    0.028412   \n",
       "\n",
       "                    s2          s3          s4          s5         s6  \n",
       "alpha                                                                  \n",
       "0.0000      561.214533  153.884786  126.734316  861.121400  52.419828  \n",
       "0.0001      551.553259  148.578680  125.355917  856.480254  52.467627  \n",
       "0.0010      475.274718  106.786540  114.632063  819.739542  52.872100  \n",
       "0.0100      152.663678  -66.060583   75.611090  659.869402  55.828128  \n",
       "0.1000      -80.590053 -174.466515   83.616653  484.363285  73.584154  \n",
       "1.0000      -22.551274 -136.930053  102.023193  260.104308  98.552274  \n",
       "10.0000      12.875448  -38.915435   38.842464   61.612405  35.505355  \n",
       "100.0000      2.142134   -4.834047    5.108223    7.448466   4.576129  \n",
       "1000.0000     0.225936   -0.495607    0.527031    0.761497   0.471029  \n",
       "10000.0000    0.022715   -0.049686    0.052870    0.076321   0.047241  "
      ]
     },
     "execution_count": 40,
     "metadata": {},
     "output_type": "execute_result"
    }
   ],
   "source": [
    "coef_df = pd.DataFrame(np_arr,columns=data.feature_names)\n",
    "coef_df['alpha'] = alphas\n",
    "coef_df.set_index('alpha')"
   ]
  },
  {
   "cell_type": "code",
   "execution_count": null,
   "id": "d3d304a3",
   "metadata": {},
   "outputs": [],
   "source": []
  }
 ],
 "metadata": {
  "kernelspec": {
   "display_name": "Python 3 (ipykernel)",
   "language": "python",
   "name": "python3"
  },
  "language_info": {
   "codemirror_mode": {
    "name": "ipython",
    "version": 3
   },
   "file_extension": ".py",
   "mimetype": "text/x-python",
   "name": "python",
   "nbconvert_exporter": "python",
   "pygments_lexer": "ipython3",
   "version": "3.9.13"
  }
 },
 "nbformat": 4,
 "nbformat_minor": 5
}
