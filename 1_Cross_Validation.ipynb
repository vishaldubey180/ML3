{
 "cells": [
  {
   "cell_type": "markdown",
   "metadata": {},
   "source": [
    "### Cross Validation Techniques"
   ]
  },
  {
   "cell_type": "code",
   "execution_count": 1,
   "metadata": {},
   "outputs": [],
   "source": [
    "data = [10, 20, 30, 40, 50, 60, 70, 80, 90, 100]"
   ]
  },
  {
   "cell_type": "code",
   "execution_count": 4,
   "metadata": {},
   "outputs": [
    {
     "data": {
      "text/plain": [
       "([50, 40, 10, 90, 30, 20, 70], [80, 60, 100])"
      ]
     },
     "execution_count": 4,
     "metadata": {},
     "output_type": "execute_result"
    }
   ],
   "source": [
    "# Hold Out\n",
    "\n",
    "from sklearn.model_selection import train_test_split\n",
    "\n",
    "x_train, x_test = train_test_split(data, test_size=0.3)\n",
    "\n",
    "x_train, x_test"
   ]
  },
  {
   "cell_type": "code",
   "execution_count": 12,
   "metadata": {},
   "outputs": [
    {
     "name": "stdout",
     "output_type": "stream",
     "text": [
      "[ 20  30  40  50  60  70  80  90 100] [10]\n",
      "[ 10  30  40  50  60  70  80  90 100] [20]\n",
      "[ 10  20  40  50  60  70  80  90 100] [30]\n",
      "[ 10  20  30  50  60  70  80  90 100] [40]\n",
      "[ 10  20  30  40  60  70  80  90 100] [50]\n",
      "[ 10  20  30  40  50  70  80  90 100] [60]\n",
      "[ 10  20  30  40  50  60  80  90 100] [70]\n",
      "[ 10  20  30  40  50  60  70  90 100] [80]\n",
      "[ 10  20  30  40  50  60  70  80 100] [90]\n",
      "[10 20 30 40 50 60 70 80 90] [100]\n"
     ]
    }
   ],
   "source": [
    "# Leave One Out\n",
    "\n",
    "from sklearn.model_selection import LeaveOneOut\n",
    "import numpy as np\n",
    "\n",
    "loo = LeaveOneOut()\n",
    "\n",
    "for train_idxs, test_idxs in loo.split(data):\n",
    "    print(np.take(data, train_idxs), np.take(data, test_idxs))"
   ]
  },
  {
   "cell_type": "code",
   "execution_count": 13,
   "metadata": {},
   "outputs": [
    {
     "name": "stdout",
     "output_type": "stream",
     "text": [
      "[ 30  40  50  60  70  80  90 100] [10 20]\n",
      "[ 20  40  50  60  70  80  90 100] [10 30]\n",
      "[ 20  30  50  60  70  80  90 100] [10 40]\n",
      "[ 20  30  40  60  70  80  90 100] [10 50]\n",
      "[ 20  30  40  50  70  80  90 100] [10 60]\n",
      "[ 20  30  40  50  60  80  90 100] [10 70]\n",
      "[ 20  30  40  50  60  70  90 100] [10 80]\n",
      "[ 20  30  40  50  60  70  80 100] [10 90]\n",
      "[20 30 40 50 60 70 80 90] [ 10 100]\n",
      "[ 10  40  50  60  70  80  90 100] [20 30]\n",
      "[ 10  30  50  60  70  80  90 100] [20 40]\n",
      "[ 10  30  40  60  70  80  90 100] [20 50]\n",
      "[ 10  30  40  50  70  80  90 100] [20 60]\n",
      "[ 10  30  40  50  60  80  90 100] [20 70]\n",
      "[ 10  30  40  50  60  70  90 100] [20 80]\n",
      "[ 10  30  40  50  60  70  80 100] [20 90]\n",
      "[10 30 40 50 60 70 80 90] [ 20 100]\n",
      "[ 10  20  50  60  70  80  90 100] [30 40]\n",
      "[ 10  20  40  60  70  80  90 100] [30 50]\n",
      "[ 10  20  40  50  70  80  90 100] [30 60]\n",
      "[ 10  20  40  50  60  80  90 100] [30 70]\n",
      "[ 10  20  40  50  60  70  90 100] [30 80]\n",
      "[ 10  20  40  50  60  70  80 100] [30 90]\n",
      "[10 20 40 50 60 70 80 90] [ 30 100]\n",
      "[ 10  20  30  60  70  80  90 100] [40 50]\n",
      "[ 10  20  30  50  70  80  90 100] [40 60]\n",
      "[ 10  20  30  50  60  80  90 100] [40 70]\n",
      "[ 10  20  30  50  60  70  90 100] [40 80]\n",
      "[ 10  20  30  50  60  70  80 100] [40 90]\n",
      "[10 20 30 50 60 70 80 90] [ 40 100]\n",
      "[ 10  20  30  40  70  80  90 100] [50 60]\n",
      "[ 10  20  30  40  60  80  90 100] [50 70]\n",
      "[ 10  20  30  40  60  70  90 100] [50 80]\n",
      "[ 10  20  30  40  60  70  80 100] [50 90]\n",
      "[10 20 30 40 60 70 80 90] [ 50 100]\n",
      "[ 10  20  30  40  50  80  90 100] [60 70]\n",
      "[ 10  20  30  40  50  70  90 100] [60 80]\n",
      "[ 10  20  30  40  50  70  80 100] [60 90]\n",
      "[10 20 30 40 50 70 80 90] [ 60 100]\n",
      "[ 10  20  30  40  50  60  90 100] [70 80]\n",
      "[ 10  20  30  40  50  60  80 100] [70 90]\n",
      "[10 20 30 40 50 60 80 90] [ 70 100]\n",
      "[ 10  20  30  40  50  60  70 100] [80 90]\n",
      "[10 20 30 40 50 60 70 90] [ 80 100]\n",
      "[10 20 30 40 50 60 70 80] [ 90 100]\n"
     ]
    }
   ],
   "source": [
    "# Leave P Out\n",
    "\n",
    "from sklearn.model_selection import LeavePOut\n",
    "\n",
    "lpo = LeavePOut(2)\n",
    "\n",
    "for train_idxs, test_idxs in lpo.split(data):\n",
    "    print(np.take(data, train_idxs), np.take(data, test_idxs))"
   ]
  },
  {
   "cell_type": "code",
   "execution_count": 19,
   "metadata": {},
   "outputs": [
    {
     "name": "stdout",
     "output_type": "stream",
     "text": [
      "[ 50  60  70  80  90 100] [10 20 30 40]\n",
      "[ 10  20  30  40  80  90 100] [50 60 70]\n",
      "[10 20 30 40 50 60 70] [ 80  90 100]\n"
     ]
    }
   ],
   "source": [
    "# K-Fold\n",
    "\n",
    "from sklearn.model_selection import KFold\n",
    "\n",
    "kf = KFold(n_splits=3)\n",
    "\n",
    "for train_idxs, test_idxs in kf.split(data):\n",
    "    print(np.take(data, train_idxs), np.take(data, test_idxs))"
   ]
  },
  {
   "cell_type": "code",
   "execution_count": null,
   "metadata": {},
   "outputs": [],
   "source": []
  }
 ],
 "metadata": {
  "kernelspec": {
   "display_name": ".venv",
   "language": "python",
   "name": "python3"
  },
  "language_info": {
   "codemirror_mode": {
    "name": "ipython",
    "version": 3
   },
   "file_extension": ".py",
   "mimetype": "text/x-python",
   "name": "python",
   "nbconvert_exporter": "python",
   "pygments_lexer": "ipython3",
   "version": "3.11.1"
  },
  "orig_nbformat": 4
 },
 "nbformat": 4,
 "nbformat_minor": 2
}
